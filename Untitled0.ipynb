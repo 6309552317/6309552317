{
  "nbformat": 4,
  "nbformat_minor": 0,
  "metadata": {
    "colab": {
      "provenance": [],
      "authorship_tag": "ABX9TyNL+10aMGjvHyqTIOfGu8oT",
      "include_colab_link": true
    },
    "kernelspec": {
      "name": "python3",
      "display_name": "Python 3"
    },
    "language_info": {
      "name": "python"
    }
  },
  "cells": [
    {
      "cell_type": "markdown",
      "metadata": {
        "id": "view-in-github",
        "colab_type": "text"
      },
      "source": [
        "<a href=\"https://colab.research.google.com/github/6309552317/6309552317/blob/main/Untitled0.ipynb\" target=\"_parent\"><img src=\"https://colab.research.google.com/assets/colab-badge.svg\" alt=\"Open In Colab\"/></a>"
      ]
    },
    {
      "cell_type": "code",
      "execution_count": null,
      "metadata": {
        "id": "dGymDy_43l-w"
      },
      "outputs": [],
      "source": []
    },
    {
      "cell_type": "code",
      "source": [
        "print(\" hello world\")\n"
      ],
      "metadata": {
        "colab": {
          "base_uri": "https://localhost:8080/"
        },
        "id": "_r0kdb2K3tub",
        "outputId": "da5a7600-4332-474b-c708-6d5190d6c4f3"
      },
      "execution_count": null,
      "outputs": [
        {
          "output_type": "stream",
          "name": "stdout",
          "text": [
            " hello world\n"
          ]
        }
      ]
    },
    {
      "cell_type": "code",
      "source": [
        "print(\"----- varibles in python-----\")\n",
        "print()\n",
        "rainbow=\"violet\",\"indigo\",\"blue\",\"green\",\"yellow\",\"orange\",\"red\"\n",
        "planets=\"mercury\",\"venus\",\"earth\",\"mars\",\"jupiter\",\"saturn\",\"uranus\",\"neptun\"\n",
        "prime_numbers=2,3,5,7,11\n",
        "print(\"colours in rainbow\",rainbow)\n",
        "print(\"Address:\",id(rainbow))\n",
        "print()\n",
        "print(\"planets\",planets)\n",
        "print(\"Address:\",id(planets))\n",
        "print()\n",
        "print(\"prime numbers\",prime_numbers)\n",
        "print(\"Address:\",id(prime_numbers))\n",
        "print()"
      ],
      "metadata": {
        "colab": {
          "base_uri": "https://localhost:8080/"
        },
        "id": "anovdwE8q277",
        "outputId": "05ffedf3-8313-425a-8ea2-304268402706"
      },
      "execution_count": null,
      "outputs": [
        {
          "output_type": "stream",
          "name": "stdout",
          "text": [
            "----- varibles in python-----\n",
            "\n",
            "colours in rainbow ('violet', 'indigo', 'blue', 'green', 'yellow', 'orange', 'red')\n",
            "Address: 139313943096448\n",
            "\n",
            "planets ('mercury', 'venus', 'earth', 'mars', 'jupiter', 'saturn', 'uranus', 'neptun')\n",
            "Address: 139313933961696\n",
            "\n",
            "prime numbers (2, 3, 5, 7, 11)\n",
            "Address: 139313933869248\n",
            "\n"
          ]
        }
      ]
    },
    {
      "cell_type": "code",
      "source": [
        "s1=set()\n",
        "print(\"Set datatype:\",s1)\n",
        "print(type(s1))\n",
        "s2={1}\n",
        "print(\"Set datatype:\",s2)\n",
        "print(type(s2))"
      ],
      "metadata": {
        "colab": {
          "base_uri": "https://localhost:8080/"
        },
        "id": "WKpuBZDiM5Je",
        "outputId": "91512108-e2cd-41aa-8c30-cb624398f907"
      },
      "execution_count": null,
      "outputs": [
        {
          "output_type": "stream",
          "name": "stdout",
          "text": [
            "Set datatype: set()\n",
            "<class 'set'>\n",
            "Set datatype: {1}\n",
            "<class 'set'>\n"
          ]
        }
      ]
    },
    {
      "cell_type": "code",
      "source": [
        "s1=set()\n",
        "print(\"Set datatype:\",s1)\n",
        "print(type(s1))\n",
        "print()\n",
        "s2={1}\n",
        "print(\"Set datatype:\",s2)\n",
        "print(type(s2))\n"
      ],
      "metadata": {
        "colab": {
          "base_uri": "https://localhost:8080/"
        },
        "id": "7hcMitf1OKvF",
        "outputId": "f0783166-9eff-4242-937a-041e38060e3c"
      },
      "execution_count": null,
      "outputs": [
        {
          "output_type": "stream",
          "name": "stdout",
          "text": [
            "Set datatype: set()\n",
            "<class 'set'>\n",
            "\n",
            "Set datatype: {1}\n",
            "<class 'set'>\n"
          ]
        }
      ]
    },
    {
      "cell_type": "code",
      "source": [
        "s1=eval(input(\"akash,suresh,sai,mahesh\"))\n",
        "print()\n",
        "print(\"set datatype:\",s1)\n",
        "print(type(s1))"
      ],
      "metadata": {
        "id": "l0KBAuMHOlKb"
      },
      "execution_count": null,
      "outputs": []
    },
    {
      "cell_type": "code",
      "source": [
        "#print of two numbers\n",
        "a=34\n",
        "b=45\n",
        "res=a+b\n",
        "print(res)"
      ],
      "metadata": {
        "colab": {
          "base_uri": "https://localhost:8080/"
        },
        "id": "49LATrxHeQWd",
        "outputId": "f6e3d671-8bbb-4ddd-aeda-b9af3febeabe"
      },
      "execution_count": 3,
      "outputs": [
        {
          "output_type": "stream",
          "name": "stdout",
          "text": [
            "79\n"
          ]
        }
      ]
    },
    {
      "cell_type": "code",
      "source": [
        "#Find Maximum of two numbers in Python\n",
        "a=67\n",
        "b=45\n",
        "print(max(a,b))"
      ],
      "metadata": {
        "colab": {
          "base_uri": "https://localhost:8080/"
        },
        "id": "3IGqDf8KeuFn",
        "outputId": "93f2b67d-5f5a-4543-c91a-57f22b671c93"
      },
      "execution_count": 4,
      "outputs": [
        {
          "output_type": "stream",
          "name": "stdout",
          "text": [
            "67\n"
          ]
        }
      ]
    },
    {
      "cell_type": "code",
      "source": [
        "#Python Program for Simple Interest\n",
        "def fun(p,t,r):\n",
        "    return(p*t*r)/100\n",
        "p,t,r=8,6,8\n",
        "res=fun(p,t,r)\n",
        "print(res)"
      ],
      "metadata": {
        "colab": {
          "base_uri": "https://localhost:8080/"
        },
        "id": "HK7T5MGjgGc2",
        "outputId": "47612041-0240-4ff0-853f-c59efa8fdd8e"
      },
      "execution_count": 16,
      "outputs": [
        {
          "output_type": "stream",
          "name": "stdout",
          "text": [
            "3.84\n"
          ]
        }
      ]
    },
    {
      "cell_type": "code",
      "source": [
        "#Factorial of a Number – Python\n",
        "n=6\n",
        "fact=1\n",
        "for i in range(1,n+1):\n",
        "    fact *= i"
      ],
      "metadata": {
        "id": "-l_XFroIet1f"
      },
      "execution_count": 15,
      "outputs": []
    },
    {
      "cell_type": "code",
      "source": [
        "#Python Program to Check Leap Year\n",
        "year=2000\n",
        "if (year% 400==0) and (year%100==0):\n",
        "   print(\"{0} is a leap year\".format (year))\n",
        "elif(year%4==0) and (year%100!=0):\n",
        "    print(\"{0} is a leap year\".format(year))\n",
        "else:\n",
        "  print(\"{0} is not a leap year\".format(year))\n"
      ],
      "metadata": {
        "colab": {
          "base_uri": "https://localhost:8080/"
        },
        "id": "NOmvdicbhQZi",
        "outputId": "46d214e0-9d92-4918-8a96-a67913f90686"
      },
      "execution_count": 21,
      "outputs": [
        {
          "output_type": "stream",
          "name": "stdout",
          "text": [
            "2000 is a leap year\n"
          ]
        }
      ]
    },
    {
      "cell_type": "code",
      "source": [
        "num1=200\n",
        "num2=600\n",
        "num3=500\n",
        "if (num1 >=num2) and (num1 >=num3):\n",
        "    largest=num1\n",
        "elif(num2>=1) and (num2>=num3):\n",
        "    largest=num2\n",
        "else:\n",
        "  largest=num3\n",
        "print(\"The largest number is\", largest)"
      ],
      "metadata": {
        "colab": {
          "base_uri": "https://localhost:8080/"
        },
        "id": "MZLOOc8ZnzaX",
        "outputId": "06c11ec0-9254-4a87-d8b2-aabae471c99d"
      },
      "execution_count": 27,
      "outputs": [
        {
          "output_type": "stream",
          "name": "stdout",
          "text": [
            "The largest number is 600\n"
          ]
        }
      ]
    }
  ]
}